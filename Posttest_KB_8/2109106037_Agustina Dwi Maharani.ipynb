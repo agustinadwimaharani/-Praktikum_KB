{
 "cells": [
  {
   "cell_type": "markdown",
   "id": "f715a0ef",
   "metadata": {},
   "source": [
    "### Mengimport library"
   ]
  },
  {
   "cell_type": "code",
   "execution_count": 113,
   "id": "15e0cbdd",
   "metadata": {},
   "outputs": [],
   "source": [
    "import pandas as pd\n",
    "import tensorflow as tf\n",
    "from tensorflow.keras import Sequential\n",
    "from sklearn.impute import SimpleImputer\n",
    "from tensorflow.keras.layers import Dense\n",
    "from sklearn.preprocessing import OrdinalEncoder\n",
    "from sklearn.model_selection import train_test_split"
   ]
  },
  {
   "cell_type": "markdown",
   "id": "9deae83c",
   "metadata": {},
   "source": [
    "### Mengimport dataset"
   ]
  },
  {
   "cell_type": "code",
   "execution_count": 114,
   "id": "4f9dde42",
   "metadata": {},
   "outputs": [],
   "source": [
    "df = pd.read_csv('netflix_titles.csv')"
   ]
  },
  {
   "cell_type": "markdown",
   "id": "08df7ff1",
   "metadata": {},
   "source": [
    "### Menampilkan 10 dataset teratas"
   ]
  },
  {
   "cell_type": "code",
   "execution_count": 115,
   "id": "f111623f",
   "metadata": {},
   "outputs": [
    {
     "data": {
      "text/html": [
       "<div>\n",
       "<style scoped>\n",
       "    .dataframe tbody tr th:only-of-type {\n",
       "        vertical-align: middle;\n",
       "    }\n",
       "\n",
       "    .dataframe tbody tr th {\n",
       "        vertical-align: top;\n",
       "    }\n",
       "\n",
       "    .dataframe thead th {\n",
       "        text-align: right;\n",
       "    }\n",
       "</style>\n",
       "<table border=\"1\" class=\"dataframe\">\n",
       "  <thead>\n",
       "    <tr style=\"text-align: right;\">\n",
       "      <th></th>\n",
       "      <th>show_id</th>\n",
       "      <th>type</th>\n",
       "      <th>title</th>\n",
       "      <th>director</th>\n",
       "      <th>cast</th>\n",
       "      <th>country</th>\n",
       "      <th>date_added</th>\n",
       "      <th>release_year</th>\n",
       "      <th>rating</th>\n",
       "      <th>duration</th>\n",
       "      <th>listed_in</th>\n",
       "      <th>description</th>\n",
       "    </tr>\n",
       "  </thead>\n",
       "  <tbody>\n",
       "    <tr>\n",
       "      <th>0</th>\n",
       "      <td>s1</td>\n",
       "      <td>Movie</td>\n",
       "      <td>Dick Johnson Is Dead</td>\n",
       "      <td>Kirsten Johnson</td>\n",
       "      <td>NaN</td>\n",
       "      <td>United States</td>\n",
       "      <td>September 25, 2021</td>\n",
       "      <td>2020</td>\n",
       "      <td>PG-13</td>\n",
       "      <td>90 min</td>\n",
       "      <td>Documentaries</td>\n",
       "      <td>As her father nears the end of his life, filmm...</td>\n",
       "    </tr>\n",
       "    <tr>\n",
       "      <th>1</th>\n",
       "      <td>s2</td>\n",
       "      <td>TV Show</td>\n",
       "      <td>Blood &amp; Water</td>\n",
       "      <td>NaN</td>\n",
       "      <td>Ama Qamata, Khosi Ngema, Gail Mabalane, Thaban...</td>\n",
       "      <td>South Africa</td>\n",
       "      <td>September 24, 2021</td>\n",
       "      <td>2021</td>\n",
       "      <td>TV-MA</td>\n",
       "      <td>2 Seasons</td>\n",
       "      <td>International TV Shows, TV Dramas, TV Mysteries</td>\n",
       "      <td>After crossing paths at a party, a Cape Town t...</td>\n",
       "    </tr>\n",
       "    <tr>\n",
       "      <th>2</th>\n",
       "      <td>s3</td>\n",
       "      <td>TV Show</td>\n",
       "      <td>Ganglands</td>\n",
       "      <td>Julien Leclercq</td>\n",
       "      <td>Sami Bouajila, Tracy Gotoas, Samuel Jouy, Nabi...</td>\n",
       "      <td>NaN</td>\n",
       "      <td>September 24, 2021</td>\n",
       "      <td>2021</td>\n",
       "      <td>TV-MA</td>\n",
       "      <td>1 Season</td>\n",
       "      <td>Crime TV Shows, International TV Shows, TV Act...</td>\n",
       "      <td>To protect his family from a powerful drug lor...</td>\n",
       "    </tr>\n",
       "    <tr>\n",
       "      <th>3</th>\n",
       "      <td>s4</td>\n",
       "      <td>TV Show</td>\n",
       "      <td>Jailbirds New Orleans</td>\n",
       "      <td>NaN</td>\n",
       "      <td>NaN</td>\n",
       "      <td>NaN</td>\n",
       "      <td>September 24, 2021</td>\n",
       "      <td>2021</td>\n",
       "      <td>TV-MA</td>\n",
       "      <td>1 Season</td>\n",
       "      <td>Docuseries, Reality TV</td>\n",
       "      <td>Feuds, flirtations and toilet talk go down amo...</td>\n",
       "    </tr>\n",
       "    <tr>\n",
       "      <th>4</th>\n",
       "      <td>s5</td>\n",
       "      <td>TV Show</td>\n",
       "      <td>Kota Factory</td>\n",
       "      <td>NaN</td>\n",
       "      <td>Mayur More, Jitendra Kumar, Ranjan Raj, Alam K...</td>\n",
       "      <td>India</td>\n",
       "      <td>September 24, 2021</td>\n",
       "      <td>2021</td>\n",
       "      <td>TV-MA</td>\n",
       "      <td>2 Seasons</td>\n",
       "      <td>International TV Shows, Romantic TV Shows, TV ...</td>\n",
       "      <td>In a city of coaching centers known to train I...</td>\n",
       "    </tr>\n",
       "    <tr>\n",
       "      <th>5</th>\n",
       "      <td>s6</td>\n",
       "      <td>TV Show</td>\n",
       "      <td>Midnight Mass</td>\n",
       "      <td>Mike Flanagan</td>\n",
       "      <td>Kate Siegel, Zach Gilford, Hamish Linklater, H...</td>\n",
       "      <td>NaN</td>\n",
       "      <td>September 24, 2021</td>\n",
       "      <td>2021</td>\n",
       "      <td>TV-MA</td>\n",
       "      <td>1 Season</td>\n",
       "      <td>TV Dramas, TV Horror, TV Mysteries</td>\n",
       "      <td>The arrival of a charismatic young priest brin...</td>\n",
       "    </tr>\n",
       "    <tr>\n",
       "      <th>6</th>\n",
       "      <td>s7</td>\n",
       "      <td>Movie</td>\n",
       "      <td>My Little Pony: A New Generation</td>\n",
       "      <td>Robert Cullen, José Luis Ucha</td>\n",
       "      <td>Vanessa Hudgens, Kimiko Glenn, James Marsden, ...</td>\n",
       "      <td>NaN</td>\n",
       "      <td>September 24, 2021</td>\n",
       "      <td>2021</td>\n",
       "      <td>PG</td>\n",
       "      <td>91 min</td>\n",
       "      <td>Children &amp; Family Movies</td>\n",
       "      <td>Equestria's divided. But a bright-eyed hero be...</td>\n",
       "    </tr>\n",
       "    <tr>\n",
       "      <th>7</th>\n",
       "      <td>s8</td>\n",
       "      <td>Movie</td>\n",
       "      <td>Sankofa</td>\n",
       "      <td>Haile Gerima</td>\n",
       "      <td>Kofi Ghanaba, Oyafunmike Ogunlano, Alexandra D...</td>\n",
       "      <td>United States, Ghana, Burkina Faso, United Kin...</td>\n",
       "      <td>September 24, 2021</td>\n",
       "      <td>1993</td>\n",
       "      <td>TV-MA</td>\n",
       "      <td>125 min</td>\n",
       "      <td>Dramas, Independent Movies, International Movies</td>\n",
       "      <td>On a photo shoot in Ghana, an American model s...</td>\n",
       "    </tr>\n",
       "    <tr>\n",
       "      <th>8</th>\n",
       "      <td>s9</td>\n",
       "      <td>TV Show</td>\n",
       "      <td>The Great British Baking Show</td>\n",
       "      <td>Andy Devonshire</td>\n",
       "      <td>Mel Giedroyc, Sue Perkins, Mary Berry, Paul Ho...</td>\n",
       "      <td>United Kingdom</td>\n",
       "      <td>September 24, 2021</td>\n",
       "      <td>2021</td>\n",
       "      <td>TV-14</td>\n",
       "      <td>9 Seasons</td>\n",
       "      <td>British TV Shows, Reality TV</td>\n",
       "      <td>A talented batch of amateur bakers face off in...</td>\n",
       "    </tr>\n",
       "    <tr>\n",
       "      <th>9</th>\n",
       "      <td>s10</td>\n",
       "      <td>Movie</td>\n",
       "      <td>The Starling</td>\n",
       "      <td>Theodore Melfi</td>\n",
       "      <td>Melissa McCarthy, Chris O'Dowd, Kevin Kline, T...</td>\n",
       "      <td>United States</td>\n",
       "      <td>September 24, 2021</td>\n",
       "      <td>2021</td>\n",
       "      <td>PG-13</td>\n",
       "      <td>104 min</td>\n",
       "      <td>Comedies, Dramas</td>\n",
       "      <td>A woman adjusting to life after a loss contend...</td>\n",
       "    </tr>\n",
       "  </tbody>\n",
       "</table>\n",
       "</div>"
      ],
      "text/plain": [
       "  show_id     type                             title  \\\n",
       "0      s1    Movie              Dick Johnson Is Dead   \n",
       "1      s2  TV Show                     Blood & Water   \n",
       "2      s3  TV Show                         Ganglands   \n",
       "3      s4  TV Show             Jailbirds New Orleans   \n",
       "4      s5  TV Show                      Kota Factory   \n",
       "5      s6  TV Show                     Midnight Mass   \n",
       "6      s7    Movie  My Little Pony: A New Generation   \n",
       "7      s8    Movie                           Sankofa   \n",
       "8      s9  TV Show     The Great British Baking Show   \n",
       "9     s10    Movie                      The Starling   \n",
       "\n",
       "                        director  \\\n",
       "0                Kirsten Johnson   \n",
       "1                            NaN   \n",
       "2                Julien Leclercq   \n",
       "3                            NaN   \n",
       "4                            NaN   \n",
       "5                  Mike Flanagan   \n",
       "6  Robert Cullen, José Luis Ucha   \n",
       "7                   Haile Gerima   \n",
       "8                Andy Devonshire   \n",
       "9                 Theodore Melfi   \n",
       "\n",
       "                                                cast  \\\n",
       "0                                                NaN   \n",
       "1  Ama Qamata, Khosi Ngema, Gail Mabalane, Thaban...   \n",
       "2  Sami Bouajila, Tracy Gotoas, Samuel Jouy, Nabi...   \n",
       "3                                                NaN   \n",
       "4  Mayur More, Jitendra Kumar, Ranjan Raj, Alam K...   \n",
       "5  Kate Siegel, Zach Gilford, Hamish Linklater, H...   \n",
       "6  Vanessa Hudgens, Kimiko Glenn, James Marsden, ...   \n",
       "7  Kofi Ghanaba, Oyafunmike Ogunlano, Alexandra D...   \n",
       "8  Mel Giedroyc, Sue Perkins, Mary Berry, Paul Ho...   \n",
       "9  Melissa McCarthy, Chris O'Dowd, Kevin Kline, T...   \n",
       "\n",
       "                                             country          date_added  \\\n",
       "0                                      United States  September 25, 2021   \n",
       "1                                       South Africa  September 24, 2021   \n",
       "2                                                NaN  September 24, 2021   \n",
       "3                                                NaN  September 24, 2021   \n",
       "4                                              India  September 24, 2021   \n",
       "5                                                NaN  September 24, 2021   \n",
       "6                                                NaN  September 24, 2021   \n",
       "7  United States, Ghana, Burkina Faso, United Kin...  September 24, 2021   \n",
       "8                                     United Kingdom  September 24, 2021   \n",
       "9                                      United States  September 24, 2021   \n",
       "\n",
       "   release_year rating   duration  \\\n",
       "0          2020  PG-13     90 min   \n",
       "1          2021  TV-MA  2 Seasons   \n",
       "2          2021  TV-MA   1 Season   \n",
       "3          2021  TV-MA   1 Season   \n",
       "4          2021  TV-MA  2 Seasons   \n",
       "5          2021  TV-MA   1 Season   \n",
       "6          2021     PG     91 min   \n",
       "7          1993  TV-MA    125 min   \n",
       "8          2021  TV-14  9 Seasons   \n",
       "9          2021  PG-13    104 min   \n",
       "\n",
       "                                           listed_in  \\\n",
       "0                                      Documentaries   \n",
       "1    International TV Shows, TV Dramas, TV Mysteries   \n",
       "2  Crime TV Shows, International TV Shows, TV Act...   \n",
       "3                             Docuseries, Reality TV   \n",
       "4  International TV Shows, Romantic TV Shows, TV ...   \n",
       "5                 TV Dramas, TV Horror, TV Mysteries   \n",
       "6                           Children & Family Movies   \n",
       "7   Dramas, Independent Movies, International Movies   \n",
       "8                       British TV Shows, Reality TV   \n",
       "9                                   Comedies, Dramas   \n",
       "\n",
       "                                         description  \n",
       "0  As her father nears the end of his life, filmm...  \n",
       "1  After crossing paths at a party, a Cape Town t...  \n",
       "2  To protect his family from a powerful drug lor...  \n",
       "3  Feuds, flirtations and toilet talk go down amo...  \n",
       "4  In a city of coaching centers known to train I...  \n",
       "5  The arrival of a charismatic young priest brin...  \n",
       "6  Equestria's divided. But a bright-eyed hero be...  \n",
       "7  On a photo shoot in Ghana, an American model s...  \n",
       "8  A talented batch of amateur bakers face off in...  \n",
       "9  A woman adjusting to life after a loss contend...  "
      ]
     },
     "execution_count": 115,
     "metadata": {},
     "output_type": "execute_result"
    }
   ],
   "source": [
    "df.head(10)"
   ]
  },
  {
   "cell_type": "markdown",
   "id": "e853a7de",
   "metadata": {},
   "source": [
    "### Mengecek tipe data"
   ]
  },
  {
   "cell_type": "code",
   "execution_count": 116,
   "id": "61f6ec46",
   "metadata": {
    "scrolled": true
   },
   "outputs": [
    {
     "data": {
      "text/plain": [
       "show_id         object\n",
       "type            object\n",
       "title           object\n",
       "director        object\n",
       "cast            object\n",
       "country         object\n",
       "date_added      object\n",
       "release_year     int64\n",
       "rating          object\n",
       "duration        object\n",
       "listed_in       object\n",
       "description     object\n",
       "dtype: object"
      ]
     },
     "execution_count": 116,
     "metadata": {},
     "output_type": "execute_result"
    }
   ],
   "source": [
    "df.dtypes"
   ]
  },
  {
   "cell_type": "markdown",
   "id": "494e3846",
   "metadata": {},
   "source": [
    "### Mengecek nilai NULL "
   ]
  },
  {
   "cell_type": "code",
   "execution_count": 117,
   "id": "6de8c94f",
   "metadata": {},
   "outputs": [
    {
     "data": {
      "text/plain": [
       "show_id            0\n",
       "type               0\n",
       "title              0\n",
       "director        2634\n",
       "cast             825\n",
       "country          831\n",
       "date_added        10\n",
       "release_year       0\n",
       "rating             4\n",
       "duration           3\n",
       "listed_in          0\n",
       "description        0\n",
       "dtype: int64"
      ]
     },
     "execution_count": 117,
     "metadata": {},
     "output_type": "execute_result"
    }
   ],
   "source": [
    "df.isnull().sum()"
   ]
  },
  {
   "cell_type": "markdown",
   "id": "5f87e951",
   "metadata": {},
   "source": [
    "### Membersihkan nilai NULL "
   ]
  },
  {
   "cell_type": "code",
   "execution_count": 118,
   "id": "fd36f986",
   "metadata": {},
   "outputs": [],
   "source": [
    "simpleImputerObjek = SimpleImputer(strategy = 'most_frequent')"
   ]
  },
  {
   "cell_type": "code",
   "execution_count": 144,
   "id": "5d0491ea",
   "metadata": {},
   "outputs": [],
   "source": [
    "df['director'] = simpleImputerObjek.fit_transform(df[['director']])\n",
    "df['cast'] = simpleImputerObjek.fit_transform(df[['cast']])\n",
    "df['country'] = simpleImputerObjek.fit_transform(df[['country']])    \n",
    "df['date_added'] = simpleImputerObjek.fit_transform(df[['date_added']])\n",
    "df['rating'] = simpleImputerObjek.fit_transform(df[['rating']])\n",
    "df['duration'] = simpleImputerObjek.fit_transform(df[['duration']])"
   ]
  },
  {
   "cell_type": "code",
   "execution_count": 145,
   "id": "31895658",
   "metadata": {},
   "outputs": [
    {
     "name": "stdout",
     "output_type": "stream",
     "text": [
      "Data setelah dilakukan cleaning\n"
     ]
    },
    {
     "data": {
      "text/plain": [
       "show_id         0\n",
       "type            0\n",
       "title           0\n",
       "director        0\n",
       "cast            0\n",
       "country         0\n",
       "date_added      0\n",
       "release_year    0\n",
       "rating          0\n",
       "duration        0\n",
       "listed_in       0\n",
       "description     0\n",
       "dtype: int64"
      ]
     },
     "execution_count": 145,
     "metadata": {},
     "output_type": "execute_result"
    }
   ],
   "source": [
    "print(\"Data setelah dilakukan cleaning\")\n",
    "df.isna().sum()"
   ]
  },
  {
   "cell_type": "markdown",
   "id": "de8b7e4a",
   "metadata": {},
   "source": [
    "### Encoding data objek menggunakan ordinal encoder"
   ]
  },
  {
   "cell_type": "code",
   "execution_count": 175,
   "id": "7bac0e5c",
   "metadata": {},
   "outputs": [],
   "source": [
    "encoder = OrdinalEncoder()\n",
    "df[\"show_id\"] = encoder.fit_transform(df[[\"show_id\"]])\n",
    "df[\"title\"] = encoder.fit_transform(df[[\"title\"]])\n",
    "df[\"country\"] = encoder.fit_transform(df[[\"country\"]])\n",
    "df[\"duration\"] = encoder.fit_transform(df[[\"duration\"]])\n",
    "df[\"director\"] = encoder.fit_transform(df[[\"director\"]])"
   ]
  },
  {
   "cell_type": "code",
   "execution_count": 179,
   "id": "6480209f",
   "metadata": {},
   "outputs": [
    {
     "name": "stdout",
     "output_type": "stream",
     "text": [
      "Dimensi x_Train:  (6164, 4)\n",
      "Dimensi x_Test:  (2643, 4)\n",
      "Dimensi y_Train:  (6164,)\n",
      "Dimensi y_Test:  (2643,)\n"
     ]
    }
   ],
   "source": [
    "X = df[['show_id', 'title', 'director', 'duration']]\n",
    "Y = df['type']\n",
    "\n",
    "X_train, X_test, Y_train, Y_test = train_test_split(X, Y, test_size=0.3)\n",
    "\n",
    "# Menampilkan Dimensi\n",
    "print(\"Dimensi x_Train: \", X_train.shape)\n",
    "print(\"Dimensi x_Test: \", X_test.shape)\n",
    "print(\"Dimensi y_Train: \", Y_train.shape)\n",
    "print(\"Dimensi y_Test: \", Y_test.shape)"
   ]
  },
  {
   "cell_type": "markdown",
   "id": "57fceccd",
   "metadata": {},
   "source": [
    "### Mengecek nilai unique pada atribut age"
   ]
  },
  {
   "cell_type": "code",
   "execution_count": 180,
   "id": "26942b32",
   "metadata": {},
   "outputs": [
    {
     "data": {
      "text/plain": [
       "array([0., 1.])"
      ]
     },
     "execution_count": 180,
     "metadata": {},
     "output_type": "execute_result"
    }
   ],
   "source": [
    "df['type'].unique()"
   ]
  },
  {
   "cell_type": "code",
   "execution_count": 181,
   "id": "5c90ef20",
   "metadata": {},
   "outputs": [
    {
     "data": {
      "text/plain": [
       "(2,)"
      ]
     },
     "execution_count": 181,
     "metadata": {},
     "output_type": "execute_result"
    }
   ],
   "source": [
    "df['type'].unique().shape"
   ]
  },
  {
   "cell_type": "markdown",
   "id": "91864f91",
   "metadata": {},
   "source": [
    "### Encoding label"
   ]
  },
  {
   "cell_type": "code",
   "execution_count": 182,
   "id": "8205f6b1",
   "metadata": {},
   "outputs": [],
   "source": [
    "num_class = 2\n",
    "\n",
    "y_train = tf.keras.utils.to_categorical(Y_train, num_class)\n",
    "y_test = tf.keras.utils.to_categorical(Y_test, num_class)"
   ]
  },
  {
   "cell_type": "markdown",
   "id": "204bd800",
   "metadata": {},
   "source": [
    "### Membuat DNN (Deep Neural Network)"
   ]
  },
  {
   "cell_type": "code",
   "execution_count": 183,
   "id": "ff6f1f4d",
   "metadata": {},
   "outputs": [
    {
     "name": "stdout",
     "output_type": "stream",
     "text": [
      "Model: \"sequential_9\"\n",
      "_________________________________________________________________\n",
      " Layer (type)                Output Shape              Param #   \n",
      "=================================================================\n",
      " dense_27 (Dense)            (None, 512)               2560      \n",
      "                                                                 \n",
      " dense_28 (Dense)            (None, 256)               131328    \n",
      "                                                                 \n",
      " dense_29 (Dense)            (None, 2)                 514       \n",
      "                                                                 \n",
      "=================================================================\n",
      "Total params: 134,402\n",
      "Trainable params: 134,402\n",
      "Non-trainable params: 0\n",
      "_________________________________________________________________\n"
     ]
    }
   ],
   "source": [
    "model = tf.keras.Sequential(\n",
    "    [\n",
    "        tf.keras.layers.Dense(512, activation='relu', input_dim = 4),\n",
    "        tf.keras.layers.Dense(256, activation='relu'),\n",
    "        tf.keras.layers.Dense(2, activation='softmax')\n",
    "    ]\n",
    ")\n",
    "model.summary()"
   ]
  },
  {
   "cell_type": "markdown",
   "id": "1b82ae44",
   "metadata": {},
   "source": [
    "### Optimasi Model"
   ]
  },
  {
   "cell_type": "code",
   "execution_count": 184,
   "id": "3feecd49",
   "metadata": {},
   "outputs": [],
   "source": [
    "model.compile(optimizer='adam',loss='categorical_crossentropy',metrics=['accuracy'])"
   ]
  },
  {
   "cell_type": "markdown",
   "id": "2f44a43d",
   "metadata": {},
   "source": [
    "### Fitting Training Model"
   ]
  },
  {
   "cell_type": "code",
   "execution_count": 188,
   "id": "f79fb919",
   "metadata": {
    "scrolled": true
   },
   "outputs": [
    {
     "name": "stdout",
     "output_type": "stream",
     "text": [
      "Epoch 1/30\n",
      "193/193 [==============================] - 1s 4ms/step - loss: 1.2764 - accuracy: 0.7163 - val_loss: 1.3578 - val_accuracy: 0.7435\n",
      "Epoch 2/30\n",
      "193/193 [==============================] - 1s 4ms/step - loss: 1.0197 - accuracy: 0.7292 - val_loss: 0.5292 - val_accuracy: 0.7768\n",
      "Epoch 3/30\n",
      "193/193 [==============================] - 1s 4ms/step - loss: 0.9579 - accuracy: 0.7260 - val_loss: 3.6172 - val_accuracy: 0.6916\n",
      "Epoch 4/30\n",
      "193/193 [==============================] - 1s 4ms/step - loss: 1.0667 - accuracy: 0.7250 - val_loss: 0.5885 - val_accuracy: 0.7616\n",
      "Epoch 5/30\n",
      "193/193 [==============================] - 1s 4ms/step - loss: 0.9341 - accuracy: 0.7270 - val_loss: 1.1033 - val_accuracy: 0.6712\n",
      "Epoch 6/30\n",
      "193/193 [==============================] - 1s 4ms/step - loss: 0.9099 - accuracy: 0.7159 - val_loss: 0.6933 - val_accuracy: 0.7280\n",
      "Epoch 7/30\n",
      "193/193 [==============================] - 1s 4ms/step - loss: 0.5369 - accuracy: 0.7485 - val_loss: 0.5439 - val_accuracy: 0.7295\n",
      "Epoch 8/30\n",
      "193/193 [==============================] - 1s 4ms/step - loss: 0.5463 - accuracy: 0.7472 - val_loss: 0.5109 - val_accuracy: 0.7507\n",
      "Epoch 9/30\n",
      "193/193 [==============================] - 1s 4ms/step - loss: 0.5150 - accuracy: 0.7519 - val_loss: 0.4846 - val_accuracy: 0.7601\n",
      "Epoch 10/30\n",
      "193/193 [==============================] - 1s 4ms/step - loss: 0.5160 - accuracy: 0.7440 - val_loss: 0.4570 - val_accuracy: 0.7730\n",
      "Epoch 11/30\n",
      "193/193 [==============================] - 1s 4ms/step - loss: 0.4985 - accuracy: 0.7469 - val_loss: 0.4605 - val_accuracy: 0.7560\n",
      "Epoch 12/30\n",
      "193/193 [==============================] - 1s 4ms/step - loss: 0.4635 - accuracy: 0.7571 - val_loss: 0.4739 - val_accuracy: 0.7677\n",
      "Epoch 13/30\n",
      "193/193 [==============================] - 1s 4ms/step - loss: 0.4717 - accuracy: 0.7599 - val_loss: 0.4664 - val_accuracy: 0.7541\n",
      "Epoch 14/30\n",
      "193/193 [==============================] - 1s 4ms/step - loss: 0.4614 - accuracy: 0.7596 - val_loss: 0.4397 - val_accuracy: 0.7692\n",
      "Epoch 15/30\n",
      "193/193 [==============================] - 1s 4ms/step - loss: 0.4550 - accuracy: 0.7628 - val_loss: 0.4420 - val_accuracy: 0.7734\n",
      "Epoch 16/30\n",
      "193/193 [==============================] - 1s 4ms/step - loss: 0.4550 - accuracy: 0.7576 - val_loss: 0.4496 - val_accuracy: 0.7503\n",
      "Epoch 17/30\n",
      "193/193 [==============================] - 1s 4ms/step - loss: 0.4569 - accuracy: 0.7614 - val_loss: 0.5147 - val_accuracy: 0.7204\n",
      "Epoch 18/30\n",
      "193/193 [==============================] - 1s 4ms/step - loss: 0.4578 - accuracy: 0.7579 - val_loss: 0.4639 - val_accuracy: 0.7719\n",
      "Epoch 19/30\n",
      "193/193 [==============================] - 1s 4ms/step - loss: 0.4479 - accuracy: 0.7664 - val_loss: 0.4543 - val_accuracy: 0.7442\n",
      "Epoch 20/30\n",
      "193/193 [==============================] - 1s 4ms/step - loss: 0.4521 - accuracy: 0.7644 - val_loss: 0.4499 - val_accuracy: 0.7696\n",
      "Epoch 21/30\n",
      "193/193 [==============================] - 1s 4ms/step - loss: 0.4522 - accuracy: 0.7643 - val_loss: 0.4450 - val_accuracy: 0.7669\n",
      "Epoch 22/30\n",
      "193/193 [==============================] - 1s 4ms/step - loss: 0.4530 - accuracy: 0.7677 - val_loss: 0.4584 - val_accuracy: 0.7734\n",
      "Epoch 23/30\n",
      "193/193 [==============================] - 1s 4ms/step - loss: 0.4499 - accuracy: 0.7665 - val_loss: 0.4377 - val_accuracy: 0.7529\n",
      "Epoch 24/30\n",
      "193/193 [==============================] - 1s 4ms/step - loss: 0.4439 - accuracy: 0.7659 - val_loss: 0.4427 - val_accuracy: 0.7582\n",
      "Epoch 25/30\n",
      "193/193 [==============================] - 1s 4ms/step - loss: 0.4517 - accuracy: 0.7623 - val_loss: 0.4499 - val_accuracy: 0.7548\n",
      "Epoch 26/30\n",
      "193/193 [==============================] - 1s 4ms/step - loss: 0.4549 - accuracy: 0.7625 - val_loss: 0.4434 - val_accuracy: 0.7601\n",
      "Epoch 27/30\n",
      "193/193 [==============================] - 1s 4ms/step - loss: 0.4543 - accuracy: 0.7618 - val_loss: 0.4448 - val_accuracy: 0.7552\n",
      "Epoch 28/30\n",
      "193/193 [==============================] - 1s 4ms/step - loss: 0.4597 - accuracy: 0.7519 - val_loss: 0.4585 - val_accuracy: 0.7507\n",
      "Epoch 29/30\n",
      "193/193 [==============================] - 1s 4ms/step - loss: 0.4951 - accuracy: 0.7588 - val_loss: 0.4489 - val_accuracy: 0.7529\n",
      "Epoch 30/30\n",
      "193/193 [==============================] - 1s 4ms/step - loss: 0.4543 - accuracy: 0.7584 - val_loss: 0.5051 - val_accuracy: 0.7159\n"
     ]
    },
    {
     "data": {
      "text/plain": [
       "<keras.callbacks.History at 0x2bcbe39d3f0>"
      ]
     },
     "execution_count": 188,
     "metadata": {},
     "output_type": "execute_result"
    }
   ],
   "source": [
    "model.fit(X_train, y_train, epochs = 30, validation_data = (X_test, y_test))"
   ]
  },
  {
   "cell_type": "markdown",
   "id": "11914203",
   "metadata": {},
   "source": [
    "### Evaluasi model"
   ]
  },
  {
   "cell_type": "code",
   "execution_count": 189,
   "id": "83eb7751",
   "metadata": {},
   "outputs": [
    {
     "name": "stdout",
     "output_type": "stream",
     "text": [
      "83/83 [==============================] - 0s 2ms/step - loss: 0.5051 - accuracy: 0.7159\n",
      "TEST LOSS      :  0.5050919651985168\n",
      "TEST ACCURACY  :  0.715853214263916\n"
     ]
    }
   ],
   "source": [
    "score_testing = model.evaluate(X_test, y_test)\n",
    "print(\"TEST LOSS      : \", score_testing[0])\n",
    "print(\"TEST ACCURACY  : \", score_testing[1])"
   ]
  },
  {
   "cell_type": "code",
   "execution_count": 190,
   "id": "e772c165",
   "metadata": {},
   "outputs": [
    {
     "name": "stdout",
     "output_type": "stream",
     "text": [
      "193/193 [==============================] - 0s 2ms/step - loss: 0.4999 - accuracy: 0.7260\n",
      "TEST LOSS      :  0.49985817074775696\n",
      "TEST ACCURACY  :  0.7259896397590637\n"
     ]
    }
   ],
   "source": [
    "score_training = model.evaluate(X_train, y_train)\n",
    "print(\"TEST LOSS      : \", score_training[0])\n",
    "print(\"TEST ACCURACY  : \", score_training[1])"
   ]
  },
  {
   "cell_type": "markdown",
   "id": "0945a14e",
   "metadata": {},
   "source": [
    "### Save model"
   ]
  },
  {
   "cell_type": "code",
   "execution_count": 191,
   "id": "4e67dfbc",
   "metadata": {},
   "outputs": [
    {
     "name": "stdout",
     "output_type": "stream",
     "text": [
      "INFO:tensorflow:Assets written to: Posttest8\\assets\n"
     ]
    }
   ],
   "source": [
    "model.save('Posttest8')"
   ]
  }
 ],
 "metadata": {
  "kernelspec": {
   "display_name": "Python 3 (ipykernel)",
   "language": "python",
   "name": "python3"
  },
  "language_info": {
   "codemirror_mode": {
    "name": "ipython",
    "version": 3
   },
   "file_extension": ".py",
   "mimetype": "text/x-python",
   "name": "python",
   "nbconvert_exporter": "python",
   "pygments_lexer": "ipython3",
   "version": "3.10.7"
  }
 },
 "nbformat": 4,
 "nbformat_minor": 5
}
