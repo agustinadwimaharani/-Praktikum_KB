{
 "cells": [
  {
   "cell_type": "markdown",
   "id": "3b53f9dd",
   "metadata": {},
   "source": [
    "#### -----------------------------------------------------------------------------------------------------------------------------------\n",
    "### NAMA    : Agustina Dwi Maharani \n",
    "### NIM     : 2109106037\n",
    "\n",
    "\n",
    "###  Posttest 7 - Pengenalan TensorFlow\n",
    "#### -----------------------------------------------------------------------------------------------------------------------------------"
   ]
  },
  {
   "cell_type": "markdown",
   "id": "88abd674",
   "metadata": {},
   "source": [
    "### Import tensorflow"
   ]
  },
  {
   "cell_type": "code",
   "execution_count": 1,
   "id": "f88d3633",
   "metadata": {},
   "outputs": [],
   "source": [
    "import tensorflow as tf"
   ]
  },
  {
   "cell_type": "markdown",
   "id": "c2bb2190",
   "metadata": {},
   "source": [
    "### Membuat sebuah tensor dengan shape [5,5] dengan nilai random"
   ]
  },
  {
   "cell_type": "code",
   "execution_count": 2,
   "id": "5c903eb4",
   "metadata": {},
   "outputs": [
    {
     "data": {
      "text/plain": [
       "<tf.Tensor: shape=(5, 5), dtype=float32, numpy=\n",
       "array([[-0.8113182 ,  1.4845988 ,  0.06532937, -2.4427042 ,  0.0992484 ],\n",
       "       [ 0.5912243 ,  0.59282297, -2.1229296 , -0.72289723, -0.05627038],\n",
       "       [ 0.6435448 , -0.26432407,  1.8566332 ,  0.5678417 , -0.3828359 ],\n",
       "       [-1.4853433 ,  1.2617711 , -0.02530608, -0.2646297 ,  1.5328138 ],\n",
       "       [-1.7429771 , -0.43789294, -0.56601   ,  0.32066926,  1.132831  ]],\n",
       "      dtype=float32)>"
      ]
     },
     "execution_count": 2,
     "metadata": {},
     "output_type": "execute_result"
    }
   ],
   "source": [
    "random_tensor = tf.random.normal([5,5],seed=1)\n",
    "random_tensor"
   ]
  },
  {
   "cell_type": "markdown",
   "id": "c05f00f2",
   "metadata": {},
   "source": [
    "### Membuat sebuah tensor dengan shape [5,5] dari sebuah list dengan nilai bilangan prima"
   ]
  },
  {
   "cell_type": "code",
   "execution_count": 6,
   "id": "2346f1d1",
   "metadata": {},
   "outputs": [
    {
     "data": {
      "text/plain": [
       "<tf.Tensor: shape=(5, 5), dtype=float32, numpy=\n",
       "array([[ 2.,  3.,  5.,  7., 11.],\n",
       "       [13., 17., 19., 23., 29.],\n",
       "       [31., 37., 41., 43., 47.],\n",
       "       [53., 59., 61., 67., 71.],\n",
       "       [73., 79., 83., 89., 97.]], dtype=float32)>"
      ]
     },
     "execution_count": 6,
     "metadata": {},
     "output_type": "execute_result"
    }
   ],
   "source": [
    "prim_tensor_num =tf.constant ([2,3,5,7,11,\n",
    "                                13,17,19,23,29,\n",
    "                                31,37,41,43,47,\n",
    "                                53, 59,61,67,71,\n",
    "                                73,79,83,89,97],\n",
    "                               shape=[5, 5], \n",
    "                               dtype = tf.float32)\n",
    "\n",
    "prim_tensor_num"
   ]
  },
  {
   "cell_type": "markdown",
   "id": "f09e1c5c",
   "metadata": {},
   "source": [
    "### Menampilkan dimensi dari kedua variabel"
   ]
  },
  {
   "cell_type": "code",
   "execution_count": 7,
   "id": "5aa2df6f",
   "metadata": {},
   "outputs": [
    {
     "name": "stdout",
     "output_type": "stream",
     "text": [
      "========Dimesni Variabel========\n",
      "random_tensor Dimensi = (5, 5)\n",
      "prim_tensor_num Dimensi = (5, 5)\n"
     ]
    }
   ],
   "source": [
    "print(\"========Dimesni Variabel========\")\n",
    "print(\"random_tensor Dimensi =\", random_tensor.shape)\n",
    "print(\"prim_tensor_num Dimensi =\", prim_tensor_num.shape)"
   ]
  },
  {
   "cell_type": "markdown",
   "id": "9d13393c",
   "metadata": {},
   "source": [
    "### Menampilkan hasil dari perhitungan aritmatika 2 variabel tersebut"
   ]
  },
  {
   "cell_type": "markdown",
   "id": "d98b9cb1",
   "metadata": {},
   "source": [
    "#### Operator Penjumlahan"
   ]
  },
  {
   "cell_type": "code",
   "execution_count": 9,
   "id": "3b6e51c9",
   "metadata": {
    "scrolled": true
   },
   "outputs": [
    {
     "name": "stdout",
     "output_type": "stream",
     "text": [
      "========Hasil Penjumlahan dari Variabel random_tensor dan prim_tensor_num ========\n",
      "tf.Tensor(\n",
      "[[ 1.1886818  4.4845986  5.0653296  4.557296  11.099248 ]\n",
      " [13.591225  17.592823  16.877071  22.277103  28.94373  ]\n",
      " [31.643545  36.735676  42.856632  43.56784   46.617165 ]\n",
      " [51.514656  60.261772  60.974693  66.73537   72.532814 ]\n",
      " [71.25702   78.5621    82.43399   89.32067   98.13283  ]], shape=(5, 5), dtype=float32)\n"
     ]
    }
   ],
   "source": [
    "print(\"========Hasil Penjumlahan dari Variabel random_tensor dan prim_tensor_num ========\")\n",
    "print(tf.add(random_tensor,prim_tensor_num))"
   ]
  },
  {
   "cell_type": "markdown",
   "id": "ad7fd123",
   "metadata": {},
   "source": [
    "#### Operator Pengurangan"
   ]
  },
  {
   "cell_type": "code",
   "execution_count": 10,
   "id": "1d2060e2",
   "metadata": {
    "scrolled": true
   },
   "outputs": [
    {
     "name": "stdout",
     "output_type": "stream",
     "text": [
      "========Hasil Pengurangan dari Variabel random_tensor dan prim_tensor_num ========\n",
      "tf.Tensor(\n",
      "[[ -2.8113182  -1.5154012  -4.9346704  -9.442704  -10.900752 ]\n",
      " [-12.408775  -16.407177  -21.122929  -23.722897  -29.05627  ]\n",
      " [-30.356455  -37.264324  -39.143368  -42.43216   -47.382835 ]\n",
      " [-54.485344  -57.738228  -61.025307  -67.26463   -69.467186 ]\n",
      " [-74.74298   -79.4379    -83.56601   -88.67933   -95.86717  ]], shape=(5, 5), dtype=float32)\n"
     ]
    }
   ],
   "source": [
    "print(\"========Hasil Pengurangan dari Variabel random_tensor dan prim_tensor_num ========\")\n",
    "print(tf.subtract(random_tensor,prim_tensor_num))"
   ]
  },
  {
   "cell_type": "markdown",
   "id": "3e9c5e84",
   "metadata": {},
   "source": [
    "#### Hasil Perkalian"
   ]
  },
  {
   "cell_type": "code",
   "execution_count": 11,
   "id": "af31d1f4",
   "metadata": {},
   "outputs": [
    {
     "name": "stdout",
     "output_type": "stream",
     "text": [
      "========Hasil Perkalian dari Variabel random_tensor dan prim_tensor_num ========\n",
      "tf.Tensor(\n",
      "[[  -1.6226364     4.4537964     0.32664686  -17.09893       1.0917324 ]\n",
      " [   7.685916     10.077991    -40.335663    -16.626637     -1.6318411 ]\n",
      " [  19.949888     -9.77999      76.12196      24.417194    -17.993286  ]\n",
      " [ -78.7232       74.444496     -1.5436709   -17.73019     108.82978   ]\n",
      " [-127.237335    -34.593544    -46.97883      28.539564    109.884605  ]], shape=(5, 5), dtype=float32)\n"
     ]
    }
   ],
   "source": [
    "print(\"========Hasil Perkalian dari Variabel random_tensor dan prim_tensor_num ========\")\n",
    "print(tf.multiply(random_tensor,prim_tensor_num))"
   ]
  },
  {
   "cell_type": "markdown",
   "id": "284cf910",
   "metadata": {},
   "source": [
    "#### Hasil Pembagian"
   ]
  },
  {
   "cell_type": "code",
   "execution_count": 12,
   "id": "21b48204",
   "metadata": {},
   "outputs": [
    {
     "name": "stdout",
     "output_type": "stream",
     "text": [
      "========Hasil Pembagian dari Variabel random_tensor dan prim_tensor_num ========\n",
      "tf.Tensor(\n",
      "[[-4.0565911e-01  4.9486625e-01  1.3065875e-02 -3.4895775e-01\n",
      "   9.0225823e-03]\n",
      " [ 4.5478795e-02  3.4871940e-02 -1.1173314e-01 -3.1430315e-02\n",
      "  -1.9403580e-03]\n",
      " [ 2.0759510e-02 -7.1438937e-03  4.5283735e-02  1.3205621e-02\n",
      "  -8.1454450e-03]\n",
      " [-2.8025346e-02  2.1385951e-02 -4.1485377e-04 -3.9496967e-03\n",
      "   2.1588927e-02]\n",
      " [-2.3876399e-02 -5.5429488e-03 -6.8193977e-03  3.6030253e-03\n",
      "   1.1678670e-02]], shape=(5, 5), dtype=float32)\n"
     ]
    }
   ],
   "source": [
    "print(\"========Hasil Pembagian dari Variabel random_tensor dan prim_tensor_num ========\")\n",
    "print(tf.divide(random_tensor,prim_tensor_num))"
   ]
  },
  {
   "cell_type": "markdown",
   "id": "cdc26cad",
   "metadata": {},
   "source": [
    "#### Hasil Pangkat"
   ]
  },
  {
   "cell_type": "code",
   "execution_count": 13,
   "id": "29308392",
   "metadata": {},
   "outputs": [
    {
     "name": "stdout",
     "output_type": "stream",
     "text": [
      "========Hasil Pangkat dari Variabel random_tensor dan prim_tensor_num ========\n",
      "tf.Tensor(\n",
      "[[ 6.5823728e-01  3.2721055e+00  1.1899876e-06 -5.1891492e+02\n",
      "   9.2036214e-12]\n",
      " [ 1.0783996e-03  1.3795117e-04 -1.6284565e+06 -5.7380047e-04\n",
      "  -5.7294839e-37]\n",
      " [ 1.1639711e-06 -4.1596646e-22  1.0417667e+11  2.7025481e-11\n",
      "  -2.5211261e-20]\n",
      " [-1.2788605e+09  9.0751462e+05 -0.0000000e+00 -0.0000000e+00\n",
      "   1.4782479e+13]\n",
      " [-4.1142766e+17 -4.6565877e-29 -3.0507073e-21  0.0000000e+00\n",
      "   1.7948009e+05]], shape=(5, 5), dtype=float32)\n"
     ]
    }
   ],
   "source": [
    "print(\"========Hasil Pangkat dari Variabel random_tensor dan prim_tensor_num ========\")\n",
    "print(tf.pow(random_tensor,prim_tensor_num))"
   ]
  },
  {
   "cell_type": "markdown",
   "id": "195ac486",
   "metadata": {},
   "source": [
    "### Menampilkan Nilai Maksimum dan Minimum dari Varibel Random Tensor"
   ]
  },
  {
   "cell_type": "code",
   "execution_count": 17,
   "id": "db449323",
   "metadata": {},
   "outputs": [
    {
     "name": "stdout",
     "output_type": "stream",
     "text": [
      "==================== Nilai Maksimum ====================\n",
      "Nilai Max random_tensor berdasarkan kolom = tf.Tensor([2 0 2 2 3], shape=(5,), dtype=int64)\n",
      "Nilai Max random_tensor berdasarkan Baris = tf.Tensor([1 1 2 4 4], shape=(5,), dtype=int64)\n"
     ]
    }
   ],
   "source": [
    "print(\"==================== Nilai Maksimum ====================\")\n",
    "print(\"Nilai Max random_tensor berdasarkan kolom =\", tf.argmax(random_tensor,axis=0))\n",
    "print(\"Nilai Max random_tensor berdasarkan Baris =\", tf.argmax(random_tensor,axis=1))"
   ]
  },
  {
   "cell_type": "code",
   "execution_count": 18,
   "id": "acb9338d",
   "metadata": {},
   "outputs": [
    {
     "name": "stdout",
     "output_type": "stream",
     "text": [
      "==================== Nilai Minimum ====================\n",
      "Nilai Min random_tensor berdasarkan kolom = tf.Tensor([4 4 1 0 2], shape=(5,), dtype=int64)\n",
      "Nilai Min random_tensor berdasarkan Baris = tf.Tensor([3 2 4 0 0], shape=(5,), dtype=int64)\n"
     ]
    }
   ],
   "source": [
    "print(\"==================== Nilai Minimum ====================\")\n",
    "print(\"Nilai Min random_tensor berdasarkan kolom =\", tf.argmin(random_tensor,axis=0))\n",
    "print(\"Nilai Min random_tensor berdasarkan Baris =\", tf.argmin(random_tensor,axis=1))"
   ]
  },
  {
   "cell_type": "markdown",
   "id": "3ce822b9",
   "metadata": {},
   "source": [
    "### Menampilkan Hasil dari Penggabungan Kedua Variabel"
   ]
  },
  {
   "cell_type": "code",
   "execution_count": 19,
   "id": "968c53b6",
   "metadata": {},
   "outputs": [
    {
     "name": "stdout",
     "output_type": "stream",
     "text": [
      "================ Penggabungan Kolom ================\n"
     ]
    },
    {
     "data": {
      "text/plain": [
       "<tf.Tensor: shape=(10, 5), dtype=float32, numpy=\n",
       "array([[-8.1131822e-01,  1.4845988e+00,  6.5329373e-02, -2.4427042e+00,\n",
       "         9.9248402e-02],\n",
       "       [ 5.9122431e-01,  5.9282297e-01, -2.1229296e+00, -7.2289723e-01,\n",
       "        -5.6270380e-02],\n",
       "       [ 6.4354479e-01, -2.6432407e-01,  1.8566332e+00,  5.6784171e-01,\n",
       "        -3.8283589e-01],\n",
       "       [-1.4853433e+00,  1.2617711e+00, -2.5306080e-02, -2.6462969e-01,\n",
       "         1.5328138e+00],\n",
       "       [-1.7429771e+00, -4.3789294e-01, -5.6601000e-01,  3.2066926e-01,\n",
       "         1.1328310e+00],\n",
       "       [ 2.0000000e+00,  3.0000000e+00,  5.0000000e+00,  7.0000000e+00,\n",
       "         1.1000000e+01],\n",
       "       [ 1.3000000e+01,  1.7000000e+01,  1.9000000e+01,  2.3000000e+01,\n",
       "         2.9000000e+01],\n",
       "       [ 3.1000000e+01,  3.7000000e+01,  4.1000000e+01,  4.3000000e+01,\n",
       "         4.7000000e+01],\n",
       "       [ 5.3000000e+01,  5.9000000e+01,  6.1000000e+01,  6.7000000e+01,\n",
       "         7.1000000e+01],\n",
       "       [ 7.3000000e+01,  7.9000000e+01,  8.3000000e+01,  8.9000000e+01,\n",
       "         9.7000000e+01]], dtype=float32)>"
      ]
     },
     "execution_count": 19,
     "metadata": {},
     "output_type": "execute_result"
    }
   ],
   "source": [
    "print(\"================ Penggabungan Kolom ================\")\n",
    "concat_col = tf.concat([random_tensor,prim_tensor_num],axis=0)\n",
    "concat_col"
   ]
  },
  {
   "cell_type": "code",
   "execution_count": 20,
   "id": "5f709fb5",
   "metadata": {},
   "outputs": [
    {
     "name": "stdout",
     "output_type": "stream",
     "text": [
      "================ Penggabungan Baris ================\n"
     ]
    },
    {
     "data": {
      "text/plain": [
       "<tf.Tensor: shape=(5, 10), dtype=float32, numpy=\n",
       "array([[-8.1131822e-01,  1.4845988e+00,  6.5329373e-02, -2.4427042e+00,\n",
       "         9.9248402e-02,  2.0000000e+00,  3.0000000e+00,  5.0000000e+00,\n",
       "         7.0000000e+00,  1.1000000e+01],\n",
       "       [ 5.9122431e-01,  5.9282297e-01, -2.1229296e+00, -7.2289723e-01,\n",
       "        -5.6270380e-02,  1.3000000e+01,  1.7000000e+01,  1.9000000e+01,\n",
       "         2.3000000e+01,  2.9000000e+01],\n",
       "       [ 6.4354479e-01, -2.6432407e-01,  1.8566332e+00,  5.6784171e-01,\n",
       "        -3.8283589e-01,  3.1000000e+01,  3.7000000e+01,  4.1000000e+01,\n",
       "         4.3000000e+01,  4.7000000e+01],\n",
       "       [-1.4853433e+00,  1.2617711e+00, -2.5306080e-02, -2.6462969e-01,\n",
       "         1.5328138e+00,  5.3000000e+01,  5.9000000e+01,  6.1000000e+01,\n",
       "         6.7000000e+01,  7.1000000e+01],\n",
       "       [-1.7429771e+00, -4.3789294e-01, -5.6601000e-01,  3.2066926e-01,\n",
       "         1.1328310e+00,  7.3000000e+01,  7.9000000e+01,  8.3000000e+01,\n",
       "         8.9000000e+01,  9.7000000e+01]], dtype=float32)>"
      ]
     },
     "execution_count": 20,
     "metadata": {},
     "output_type": "execute_result"
    }
   ],
   "source": [
    "print(\"================ Penggabungan Baris ================\")\n",
    "concal_row = tf.concat([random_tensor,prim_tensor_num],axis=1)\n",
    "concal_row"
   ]
  },
  {
   "cell_type": "markdown",
   "id": "127d5e83",
   "metadata": {},
   "source": [
    "### Menampilkan Sorting Dari Kedua Variabel Secara Descending"
   ]
  },
  {
   "cell_type": "code",
   "execution_count": 21,
   "id": "3e4bb82a",
   "metadata": {},
   "outputs": [
    {
     "name": "stdout",
     "output_type": "stream",
     "text": [
      "===== Sorting Secara Descending random_tensor =====\n"
     ]
    },
    {
     "data": {
      "text/plain": [
       "<tf.Tensor: shape=(5, 5), dtype=float32, numpy=\n",
       "array([[ 1.4845988 ,  0.0992484 ,  0.06532937, -0.8113182 , -2.4427042 ],\n",
       "       [ 0.59282297,  0.5912243 , -0.05627038, -0.72289723, -2.1229296 ],\n",
       "       [ 1.8566332 ,  0.6435448 ,  0.5678417 , -0.26432407, -0.3828359 ],\n",
       "       [ 1.5328138 ,  1.2617711 , -0.02530608, -0.2646297 , -1.4853433 ],\n",
       "       [ 1.132831  ,  0.32066926, -0.43789294, -0.56601   , -1.7429771 ]],\n",
       "      dtype=float32)>"
      ]
     },
     "execution_count": 21,
     "metadata": {},
     "output_type": "execute_result"
    }
   ],
   "source": [
    "print(\"===== Sorting Secara Descending random_tensor =====\")\n",
    "random_tensor_desc = tf.sort(random_tensor, direction=\"DESCENDING\")\n",
    "random_tensor_desc"
   ]
  },
  {
   "cell_type": "code",
   "execution_count": 22,
   "id": "ca98d5e3",
   "metadata": {},
   "outputs": [
    {
     "name": "stdout",
     "output_type": "stream",
     "text": [
      "===== Sorting Secara Descending prim_tensor_num =====\n"
     ]
    },
    {
     "data": {
      "text/plain": [
       "<tf.Tensor: shape=(5, 5), dtype=float32, numpy=\n",
       "array([[11.,  7.,  5.,  3.,  2.],\n",
       "       [29., 23., 19., 17., 13.],\n",
       "       [47., 43., 41., 37., 31.],\n",
       "       [71., 67., 61., 59., 53.],\n",
       "       [97., 89., 83., 79., 73.]], dtype=float32)>"
      ]
     },
     "execution_count": 22,
     "metadata": {},
     "output_type": "execute_result"
    }
   ],
   "source": [
    "print(\"===== Sorting Secara Descending prim_tensor_num =====\")\n",
    "prim_tensor_num_desc = tf.sort(prim_tensor_num, direction=\"DESCENDING\")\n",
    "prim_tensor_num_desc"
   ]
  }
 ],
 "metadata": {
  "kernelspec": {
   "display_name": "Python 3 (ipykernel)",
   "language": "python",
   "name": "python3"
  },
  "language_info": {
   "codemirror_mode": {
    "name": "ipython",
    "version": 3
   },
   "file_extension": ".py",
   "mimetype": "text/x-python",
   "name": "python",
   "nbconvert_exporter": "python",
   "pygments_lexer": "ipython3",
   "version": "3.10.7"
  }
 },
 "nbformat": 4,
 "nbformat_minor": 5
}
